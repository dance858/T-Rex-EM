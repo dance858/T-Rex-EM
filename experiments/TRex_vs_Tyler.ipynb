{
 "cells": [
  {
   "cell_type": "code",
   "execution_count": 1,
   "id": "9cbe9649",
   "metadata": {},
   "outputs": [],
   "source": [
    "import pandas as pd\n",
    "import matplotlib.pyplot as plt\n",
    "import time\n",
    "import sys\n",
    "sys.path.append(\"../\")\n",
    "import numpy as np\n",
    "import numpy.linalg as LA\n",
    "from estimators.Tyler_estimators import TRex_random_init, Tyler_standard_FP\n",
    "from experiments.utils import generate_samples, scatter_to_corr, build_true_cov, errors_corr"
   ]
  },
  {
   "cell_type": "code",
   "execution_count": 2,
   "id": "fa1bdc2d",
   "metadata": {},
   "outputs": [],
   "source": [
    "np.random.seed(0)\n",
    "data = pd.read_csv(\"data/sp500_cleaned.csv\")\n",
    "returns = data.pct_change().dropna().values.T\n",
    "n_tot = returns.shape[0]\n",
    "m_tot = returns.shape[1]\n",
    "num_runs = 30\n",
    "all_n = [50, 100, 150, 200, 250, 300, 350, 400, 450]\n",
    "num_factors = 5\n",
    "errors_Tyler = np.zeros((num_runs, len(all_n)))\n",
    "errors_TRex = np.zeros((num_runs, len(all_n)))\n",
    "times_Tyler = np.zeros((num_runs, len(all_n)))\n",
    "times_TRex = np.zeros((num_runs, len(all_n)))\n",
    "MAX_ITER = 20\n",
    "\n",
    "F = np.random.randn(30, num_factors)\n",
    "d = np.random.rand(30)\n",
    "F = np.ascontiguousarray(F)\n",
    "d = np.ascontiguousarray(d)\n",
    "X = returns[0:30, :]\n",
    "X = X - np.mean(X, axis=1, keepdims=True)\n",
    "X2 = np.ascontiguousarray(X)\n",
    "F_TRex, d_TRex = \\\n",
    "TRex_random_init(X2, num_factors, F, d, \n",
    "                 outer_max_iter=20, inner_max_iter=100)\n"
   ]
  },
  {
   "cell_type": "code",
   "execution_count": 4,
   "id": "08233e4d",
   "metadata": {},
   "outputs": [
    {
     "name": "stdout",
     "output_type": "stream",
     "text": [
      "simulating n = 50... \n",
      "simulating n = 100... \n"
     ]
    },
    {
     "ename": "KeyboardInterrupt",
     "evalue": "",
     "output_type": "error",
     "traceback": [
      "\u001b[31m---------------------------------------------------------------------------\u001b[39m",
      "\u001b[31mKeyboardInterrupt\u001b[39m                         Traceback (most recent call last)",
      "\u001b[36mCell\u001b[39m\u001b[36m \u001b[39m\u001b[32mIn[4]\u001b[39m\u001b[32m, line 13\u001b[39m\n\u001b[32m     11\u001b[39m \u001b[38;5;66;03m# estimation using vanilla Tyler\u001b[39;00m\n\u001b[32m     12\u001b[39m start = time.time()\n\u001b[32m---> \u001b[39m\u001b[32m13\u001b[39m scatter_Tyler = \u001b[43mTyler_standard_FP\u001b[49m\u001b[43m(\u001b[49m\u001b[43mX\u001b[49m\u001b[43m,\u001b[49m\u001b[43m \u001b[49m\u001b[43mMAX_ITER\u001b[49m\u001b[43m)\u001b[49m\n\u001b[32m     14\u001b[39m end = time.time()\n\u001b[32m     15\u001b[39m times_Tyler[run, ii] = end - start\n",
      "\u001b[36mFile \u001b[39m\u001b[32m~/Documents/Research/code_paper_repos/T-Rex/T-Rex-final-repo-IEEE/T-Rex-EM/experiments/../estimators/Tyler_estimators.py:127\u001b[39m, in \u001b[36mTyler_standard_FP\u001b[39m\u001b[34m(X, max_iter)\u001b[39m\n\u001b[32m    125\u001b[39m Sigma = np.eye(n)\n\u001b[32m    126\u001b[39m \u001b[38;5;28;01mfor\u001b[39;00m _ \u001b[38;5;129;01min\u001b[39;00m \u001b[38;5;28mrange\u001b[39m(max_iter):\n\u001b[32m--> \u001b[39m\u001b[32m127\u001b[39m     SigmainvX = \u001b[43mLA\u001b[49m\u001b[43m.\u001b[49m\u001b[43msolve\u001b[49m\u001b[43m(\u001b[49m\u001b[43mSigma\u001b[49m\u001b[43m,\u001b[49m\u001b[43m \u001b[49m\u001b[43mX\u001b[49m\u001b[43m)\u001b[49m\n\u001b[32m    128\u001b[39m     Sigma = np.zeros((n, n))\n\u001b[32m    129\u001b[39m     \u001b[38;5;28;01mfor\u001b[39;00m i \u001b[38;5;129;01min\u001b[39;00m \u001b[38;5;28mrange\u001b[39m(m):\n",
      "\u001b[36mFile \u001b[39m\u001b[32m~/Documents/Research/code_paper_repos/T-Rex/T-Rex-final-repo-IEEE/T-Rex-EM/venv/lib/python3.12/site-packages/numpy/linalg/_linalg.py:410\u001b[39m, in \u001b[36msolve\u001b[39m\u001b[34m(a, b)\u001b[39m\n\u001b[32m    407\u001b[39m signature = \u001b[33m'\u001b[39m\u001b[33mDD->D\u001b[39m\u001b[33m'\u001b[39m \u001b[38;5;28;01mif\u001b[39;00m isComplexType(t) \u001b[38;5;28;01melse\u001b[39;00m \u001b[33m'\u001b[39m\u001b[33mdd->d\u001b[39m\u001b[33m'\u001b[39m\n\u001b[32m    408\u001b[39m \u001b[38;5;28;01mwith\u001b[39;00m errstate(call=_raise_linalgerror_singular, invalid=\u001b[33m'\u001b[39m\u001b[33mcall\u001b[39m\u001b[33m'\u001b[39m,\n\u001b[32m    409\u001b[39m               over=\u001b[33m'\u001b[39m\u001b[33mignore\u001b[39m\u001b[33m'\u001b[39m, divide=\u001b[33m'\u001b[39m\u001b[33mignore\u001b[39m\u001b[33m'\u001b[39m, under=\u001b[33m'\u001b[39m\u001b[33mignore\u001b[39m\u001b[33m'\u001b[39m):\n\u001b[32m--> \u001b[39m\u001b[32m410\u001b[39m     r = \u001b[43mgufunc\u001b[49m\u001b[43m(\u001b[49m\u001b[43ma\u001b[49m\u001b[43m,\u001b[49m\u001b[43m \u001b[49m\u001b[43mb\u001b[49m\u001b[43m,\u001b[49m\u001b[43m \u001b[49m\u001b[43msignature\u001b[49m\u001b[43m=\u001b[49m\u001b[43msignature\u001b[49m\u001b[43m)\u001b[49m\n\u001b[32m    412\u001b[39m \u001b[38;5;28;01mreturn\u001b[39;00m wrap(r.astype(result_t, copy=\u001b[38;5;28;01mFalse\u001b[39;00m))\n",
      "\u001b[31mKeyboardInterrupt\u001b[39m: "
     ]
    }
   ],
   "source": [
    "for ii in range(len(all_n)):\n",
    "    print(f'simulating n = {all_n[ii]}... ')\n",
    "    n = all_n[ii]\n",
    "    cov_true = np.cov(returns[0:n, :])\n",
    "    corr_true = scatter_to_corr([cov_true])[0]\n",
    "    m = n + 1\n",
    "    for run in range(num_runs):     \n",
    "        X = generate_samples(m, \"N\", {'mu': np.zeros((n, )), 'cov': cov_true})\n",
    "        X = X - np.mean(X, axis=1, keepdims=True)\n",
    "        \n",
    "        # estimation using vanilla Tyler\n",
    "        start = time.time()\n",
    "        scatter_Tyler = Tyler_standard_FP(X, MAX_ITER)\n",
    "        end = time.time()\n",
    "        times_Tyler[run, ii] = end - start\n",
    "        \n",
    "        # compute factor model via Tyler\n",
    "        X2 = np.ascontiguousarray(X)\n",
    "        F_init = np.random.randn(X2.shape[0], num_factors)\n",
    "        d_init = np.random.rand(X2.shape[0])\n",
    "        F_init = np.ascontiguousarray(F_init)\n",
    "        d_init = np.ascontiguousarray(d_init) \n",
    "        start = time.time()\n",
    "        F_TRex, d_TRex = \\\n",
    "            TRex_random_init(X2, num_factors, F_init, d_init,\n",
    "                             outer_max_iter=MAX_ITER,\n",
    "                             inner_max_iter=100)\n",
    "        end = time.time()\n",
    "        times_TRex[run, ii] = end - start \n",
    "                    \n",
    "        scatter_TRex = F_TRex @ F_TRex.T + np.diag(d_TRex)        \n",
    "        errors = errors_corr([scatter_Tyler, scatter_TRex], true_corr=corr_true)\n",
    "        errors_Tyler[run, ii] = errors[0]\n",
    "        errors_TRex[run, ii] = errors[1]        \n",
    "\n",
    "        #print(f\"Tyler time: {times_Tyler[run, ii]}, TRex time: {times_TRex[run, ii]}\")\n",
    "        #print(f\"Tyler error: {errors[0]}, TRex error: {errors[1]}\") \n",
    "\n"
   ]
  },
  {
   "cell_type": "code",
   "execution_count": null,
   "id": "417c67a4",
   "metadata": {},
   "outputs": [
    {
     "ename": "NameError",
     "evalue": "name 'np' is not defined",
     "output_type": "error",
     "traceback": [
      "\u001b[31m---------------------------------------------------------------------------\u001b[39m",
      "\u001b[31mNameError\u001b[39m                                 Traceback (most recent call last)",
      "\u001b[36mCell\u001b[39m\u001b[36m \u001b[39m\u001b[32mIn[1]\u001b[39m\u001b[32m, line 1\u001b[39m\n\u001b[32m----> \u001b[39m\u001b[32m1\u001b[39m average_Tyler_errors = \u001b[43mnp\u001b[49m.mean(errors_Tyler, axis=\u001b[32m0\u001b[39m)\n\u001b[32m      2\u001b[39m average_TRex_errors = np.mean(errors_TRex, axis=\u001b[32m0\u001b[39m)\n\u001b[32m      3\u001b[39m average_Tyler_times = np.mean(times_Tyler, axis=\u001b[32m0\u001b[39m)\n",
      "\u001b[31mNameError\u001b[39m: name 'np' is not defined"
     ]
    }
   ],
   "source": [
    "average_Tyler_errors = np.mean(errors_Tyler, axis=0)\n",
    "average_TRex_errors = np.mean(errors_TRex, axis=0)\n",
    "average_Tyler_times = np.mean(times_Tyler, axis=0)\n",
    "average_TRex_times = np.mean(times_TRex, axis=0)\n",
    "\n",
    "std_Tyler_errors = np.std(errors_Tyler, axis=0)\n",
    "std_TRex_errors = np.std(errors_TRex, axis=0)\n",
    "std_Tyler_times = np.std(times_Tyler, axis=0)\n",
    "std_TRex_times = np.std(times_TRex, axis=0)\n",
    "\n",
    "fig, axs = plt.subplots(1, 2, figsize=(20, 8))\n",
    "MARKERSIZE, CAPSIZE, CAPTHICK, ELINEWIDTH, LINEWIDTH = 12, 5, 4, 4, 4\n",
    "FONTSIZE_Y, FONTSIZE_X = 30, 25\n",
    "\n",
    "axs[1].errorbar(all_n, average_Tyler_errors, \n",
    "                yerr=std_Tyler_errors, \n",
    "                marker='o', linestyle='--',  linewidth=LINEWIDTH,\n",
    "                markersize=30, capsize=CAPSIZE, capthick=CAPTHICK, \n",
    "                elinewidth=ELINEWIDTH, label=\"Tyler\")\n",
    "\n",
    "axs[1].errorbar(all_n, average_TRex_errors, \n",
    "                yerr=std_TRex_errors, \n",
    "                marker='v', linestyle='--',  linewidth=LINEWIDTH,\n",
    "                markersize=25, capsize=CAPSIZE, capthick=CAPTHICK, \n",
    "                elinewidth=ELINEWIDTH, label=\"T-Rex (Ours)\")\n",
    "\n",
    "\n",
    "axs[0].errorbar(all_n, average_Tyler_times, \n",
    "                yerr=std_Tyler_times, \n",
    "                marker='o', linestyle='--',  linewidth=LINEWIDTH,\n",
    "                markersize=30, capsize=CAPSIZE, capthick=CAPTHICK, \n",
    "                elinewidth=ELINEWIDTH)\n",
    "\n",
    "axs[0].errorbar(all_n, average_TRex_times, \n",
    "                yerr=std_TRex_times, \n",
    "                marker='v', linestyle='--',  linewidth=LINEWIDTH,\n",
    "                markersize=25, capsize=CAPSIZE, capthick=CAPTHICK, \n",
    "                elinewidth=ELINEWIDTH)\n",
    "\n",
    "\n",
    "\n",
    "axs[0].grid()\n",
    "axs[1].grid()\n",
    "axs[0].tick_params(axis='both', which='major', labelsize=20)\n",
    "axs[1].tick_params(axis='both', which='major', labelsize=20)\n",
    "\n",
    "\n",
    "axs[0].set_ylabel('runtime (s)', fontsize=FONTSIZE_Y)\n",
    "axs[0].set_xlabel('dimension', fontsize=FONTSIZE_X)\n",
    "axs[1].set_xlabel('dimension', fontsize=FONTSIZE_X)\n",
    "axs[1].set_ylabel('MSE', fontsize=FONTSIZE_Y)\n",
    "plt.tight_layout(rect=[0, 0, 1, 0.90])\n",
    "fig.legend(fontsize=30, loc='upper center', bbox_to_anchor=(0.52, 1.01), ncol=3)\n",
    "#plt.show()\n",
    "plt.savefig(\"figures/runtime_vs_Tyler.pdf\")\n",
    "\n",
    "\n",
    "         \n",
    "         \n",
    "\n",
    "\n",
    "\n",
    "\n"
   ]
  }
 ],
 "metadata": {
  "kernelspec": {
   "display_name": "venv",
   "language": "python",
   "name": "python3"
  },
  "language_info": {
   "codemirror_mode": {
    "name": "ipython",
    "version": 3
   },
   "file_extension": ".py",
   "mimetype": "text/x-python",
   "name": "python",
   "nbconvert_exporter": "python",
   "pygments_lexer": "ipython3",
   "version": "3.12.3"
  }
 },
 "nbformat": 4,
 "nbformat_minor": 5
}
